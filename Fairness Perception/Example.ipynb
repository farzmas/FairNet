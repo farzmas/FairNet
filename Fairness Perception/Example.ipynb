{
 "cells": [
  {
   "cell_type": "code",
   "execution_count": 3,
   "metadata": {},
   "outputs": [],
   "source": [
    "from codes.data_loader import load_data\n",
    "from codes.metrics import fairness_visibility, accuracy, group_fairness\n",
    "import numpy as np"
   ]
  },
  {
   "cell_type": "code",
   "execution_count": 4,
   "metadata": {},
   "outputs": [],
   "source": [
    "def generat_result(h,y,prt_group, W):\n",
    "    acc = accuracy(h,y)\n",
    "    tpg ,_,_,_ = group_fairness(y, h, prt_group, return_gap = True)\n",
    "    fv0, fv1, _, =fairness_visibility(W ,y, h, prt_group, output= True)\n",
    "    print(\"   Accuracy: {:.4f} | TPR Disparity: {:.4f} | Visibility group 0: {:.4f} | Visibility group 1: {:.4f}\".format(acc, tpg, fv0, fv1))\n",
    "    return acc, tpg, fv0, fv1\n",
    "    "
   ]
  },
  {
   "cell_type": "code",
   "execution_count": 6,
   "metadata": {},
   "outputs": [
    {
     "name": "stdout",
     "output_type": "stream",
     "text": [
      "year 2017\n",
      "Top univeristies:\n",
      "   Accuracy: 0.8238 | TPR Disparity: 0.0325 | Visibility group 0: 0.5586 | Visibility group 1: 0.6612\n",
      "Famous authors:\n",
      "   Accuracy: 0.8238 | TPR Disparity: 0.0392 | Visibility group 0: 0.5445 | Visibility group 1: 0.7264\n",
      "\n",
      "year 2018\n",
      "Top univeristies:\n",
      "   Accuracy: 0.7910 | TPR Disparity: 0.0199 | Visibility group 0: 0.6000 | Visibility group 1: 0.6818\n",
      "Famous authors:\n",
      "   Accuracy: 0.7910 | TPR Disparity: 0.0473 | Visibility group 0: 0.6126 | Visibility group 1: 0.6957\n",
      "\n",
      "year 2019\n",
      "Top univeristies:\n",
      "   Accuracy: 0.8978 | TPR Disparity: 0.0358 | Visibility group 0: 0.5236 | Visibility group 1: 0.6021\n",
      "Famous authors:\n",
      "   Accuracy: 0.8978 | TPR Disparity: 0.0630 | Visibility group 0: 0.5326 | Visibility group 1: 0.6165\n",
      "\n",
      "year 2020\n",
      "Top univeristies:\n",
      "   Accuracy: 0.9028 | TPR Disparity: 0.0944 | Visibility group 0: 0.5174 | Visibility group 1: 0.5236\n",
      "Famous authors:\n",
      "   Accuracy: 0.9028 | TPR Disparity: 0.0618 | Visibility group 0: 0.5284 | Visibility group 1: 0.4522\n",
      "\n"
     ]
    }
   ],
   "source": [
    "original_t = list()\n",
    "original_f = list()\n",
    "for year in [2017, 2018, 2019,2020]:\n",
    "    adj, y, h_c , prt_f, prt_t, W = load_data( year = year)\n",
    "    print('year',year)\n",
    "    print('Top univeristies:')\n",
    "    original_t.append(generat_result(h_c,y,prt_t, W))\n",
    "    print('Famous authors:')\n",
    "    original_f.append(generat_result(h_c,y,prt_f, W))\n",
    "    print()"
   ]
  },
  {
   "cell_type": "code",
   "execution_count": null,
   "metadata": {},
   "outputs": [],
   "source": []
  }
 ],
 "metadata": {
  "kernelspec": {
   "display_name": "Python 3",
   "language": "python",
   "name": "python3"
  },
  "language_info": {
   "codemirror_mode": {
    "name": "ipython",
    "version": 3
   },
   "file_extension": ".py",
   "mimetype": "text/x-python",
   "name": "python",
   "nbconvert_exporter": "python",
   "pygments_lexer": "ipython3",
   "version": "3.7.6"
  }
 },
 "nbformat": 4,
 "nbformat_minor": 4
}
